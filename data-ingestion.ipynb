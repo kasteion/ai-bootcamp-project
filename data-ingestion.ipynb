{
 "cells": [
  {
   "cell_type": "code",
   "execution_count": 1,
   "id": "24c544ab",
   "metadata": {},
   "outputs": [],
   "source": [
    "import github_data_reader as reader\n",
    "import chordpro_parser as parser"
   ]
  },
  {
   "cell_type": "code",
   "execution_count": 2,
   "id": "2bc32aa5",
   "metadata": {},
   "outputs": [],
   "source": [
    "raw_songs = reader.read_github_data('Asacri', 'asacriband-chords')"
   ]
  },
  {
   "cell_type": "code",
   "execution_count": 3,
   "id": "a4c693cb",
   "metadata": {},
   "outputs": [
    {
     "data": {
      "text/plain": [
       "RawRepositoryFile(filename='10000 Razones.chordpro', content='{title: 10000 Razones}\\n{key: C}\\n{time: 4/4}\\n{comment: Coro}\\nQue [C]todo lo que [G]soy, ben[D]diga al Se[Em]ñor\\n[C]Su nombre [G]santo [D]es\\nCon [C]todo mi [Em]ser [C]can[D]ta[Em]ré\\n[C]Su nombre a[D]laba[G]ré\\n{comment: Verso 1}\\n[C]Sale el [G]sol, es un [D]nuevo amane[Em]cer\\n[C] Es tiempo [G]de ado[D]rar otra [Em]vez\\nNo im[C]porta lo que [G]venga, mi a[D]nhelo es que me en[Em]cuentres\\n[C] Cantando [G]hasta que se [D]ponga el [G]Sol\\n{comment: Verso 2}\\nTu a[C]mor es [G]grande, [D]eres pa[Em]ciente\\n[C] Y bonda[G]doso es tu [D]cora[Em]zón\\nPor [C]todo lo que has [G]hecho yo [D]seguiré can[Em]tando\\n[C] Diez mil ra[G]zones para [D]ala[G]bar\\n{comment: Verso 3}\\nY en [C]ese [G]día cuando [D]ya no tenga [Em]fuerzas\\n[C]Y se a[G]cerque ya [D]el fi[Em]nal\\nA[C]un a[G]sí, te [D]seguiré can[Em]tando\\n[C] Por diez mil [G]años y la e[D]terni[G]dad\\n{comment: Final}\\n[C]Su nombre a[D]laba[Em]ré\\n[C]Su nombre a[D]laba[G]ré')"
      ]
     },
     "execution_count": 3,
     "metadata": {},
     "output_type": "execute_result"
    }
   ],
   "source": [
    "raw_songs[0]"
   ]
  },
  {
   "cell_type": "code",
   "execution_count": 4,
   "id": "695db6ad",
   "metadata": {},
   "outputs": [
    {
     "data": {
      "text/plain": [
       "[SongData(title='10000 Razones', key='C', time='4/4', section='Coro', content='Que todo lo que soy, bendiga al Señor Su nombre santo es Con todo mi ser cantaré Su nombre alabaré'),\n",
       " SongData(title='10000 Razones', key='C', time='4/4', section='Verso 1', content='Sale el sol, es un nuevo amanecer Es tiempo de adorar otra vez No importa lo que venga, mi anhelo es que me encuentres Cantando hasta que se ponga el Sol'),\n",
       " SongData(title='10000 Razones', key='C', time='4/4', section='Verso 2', content='Tu amor es grande, eres paciente Y bondadoso es tu corazón Por todo lo que has hecho yo seguiré cantando Diez mil razones para alabar'),\n",
       " SongData(title='10000 Razones', key='C', time='4/4', section='Verso 3', content='Y en ese día cuando ya no tenga fuerzas Y se acerque ya el final Aun así, te seguiré cantando Por diez mil años y la eternidad'),\n",
       " SongData(title='10000 Razones', key='C', time='4/4', section='Final', content='Su nombre alabaré Su nombre alabaré')]"
      ]
     },
     "execution_count": 4,
     "metadata": {},
     "output_type": "execute_result"
    }
   ],
   "source": [
    "parser.parse_chordpro(raw_songs[0].content)"
   ]
  },
  {
   "cell_type": "code",
   "execution_count": 5,
   "id": "200682d5",
   "metadata": {},
   "outputs": [],
   "source": [
    "parsed_songs = parser.parse_data(raw_songs)"
   ]
  },
  {
   "cell_type": "code",
   "execution_count": 6,
   "id": "63fb88a4",
   "metadata": {},
   "outputs": [
    {
     "data": {
      "text/plain": [
       "[SongData(title='10000 Razones', key='C', time='4/4', section='Coro', content='Que todo lo que soy, bendiga al Señor Su nombre santo es Con todo mi ser cantaré Su nombre alabaré'),\n",
       " SongData(title='10000 Razones', key='C', time='4/4', section='Verso 1', content='Sale el sol, es un nuevo amanecer Es tiempo de adorar otra vez No importa lo que venga, mi anhelo es que me encuentres Cantando hasta que se ponga el Sol'),\n",
       " SongData(title='10000 Razones', key='C', time='4/4', section='Verso 2', content='Tu amor es grande, eres paciente Y bondadoso es tu corazón Por todo lo que has hecho yo seguiré cantando Diez mil razones para alabar'),\n",
       " SongData(title='10000 Razones', key='C', time='4/4', section='Verso 3', content='Y en ese día cuando ya no tenga fuerzas Y se acerque ya el final Aun así, te seguiré cantando Por diez mil años y la eternidad'),\n",
       " SongData(title='10000 Razones', key='C', time='4/4', section='Final', content='Su nombre alabaré Su nombre alabaré'),\n",
       " SongData(title='2da de Corintios 5:17', key='G', time='4/4', section='Verso 1', content='El que está en Cristo es nueva criatura. Las cosas viejas pasaron ya. He aquí todas son hechas nuevas, Así se inicia el primer amor.'),\n",
       " SongData(title='2da de Corintios 5:17', key='G', time='4/4', section='Coro', content='Por Cristo vivimos, en Cristo morimos, En Él redimimos el mal que hicimos. Su sangre nos limpia de todo pecado Y así el pasado queda sepultado.'),\n",
       " SongData(title='A Cristo Coronad', key='D', time='4/4', section='Verso 1', content='A Cristo coronad, Divino Salvador Sentado en alta majestad Es digno de loor Al Rey de gloria y paz Loores tributad Y bendecid al Inmortal Por toda eternidad'),\n",
       " SongData(title='A Cristo Coronad', key='D', time='4/4', section='Verso 2', content='A Cristo coronad, Señor de nuestro amor Al Rey triunfante celebrad, Glorioso vencedor Potente Rey de paz El triunfo consumó Y por su muerte en la cruz Su grande amor mostró.'),\n",
       " SongData(title='A Cristo Coronad', key='D', time='4/4', section='Verso 3', content='A Cristo coronad, Señor de vida y luz Con alabanzas proclamad Los triunfos de la cruz A Él pues adorad, Señor de salvación Loor eterno tributad De todo corazón.')]"
      ]
     },
     "execution_count": 6,
     "metadata": {},
     "output_type": "execute_result"
    }
   ],
   "source": [
    "parsed_songs[:10]"
   ]
  }
 ],
 "metadata": {
  "kernelspec": {
   "display_name": "ai-bootcamp-project",
   "language": "python",
   "name": "python3"
  },
  "language_info": {
   "codemirror_mode": {
    "name": "ipython",
    "version": 3
   },
   "file_extension": ".py",
   "mimetype": "text/x-python",
   "name": "python",
   "nbconvert_exporter": "python",
   "pygments_lexer": "ipython3",
   "version": "3.13.1"
  }
 },
 "nbformat": 4,
 "nbformat_minor": 5
}
